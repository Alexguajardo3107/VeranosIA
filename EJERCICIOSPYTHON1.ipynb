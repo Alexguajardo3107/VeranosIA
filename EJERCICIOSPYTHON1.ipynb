{
  "nbformat": 4,
  "nbformat_minor": 0,
  "metadata": {
    "colab": {
      "provenance": [],
      "authorship_tag": "ABX9TyMYS6PHUOcRITv2ZXyTeVx8"
    },
    "kernelspec": {
      "name": "python3",
      "display_name": "Python 3"
    },
    "language_info": {
      "name": "python"
    }
  },
  "cells": [
    {
      "cell_type": "markdown",
      "source": [
        "EjercicioPython_1\".\n",
        "JESUS ALEJANDRO ENRIQUEZ GUAJARDO      2035397\n",
        "N1-N3"
      ],
      "metadata": {
        "id": "8lRqRuDBbaGX"
      }
    },
    {
      "cell_type": "code",
      "source": [
        "def main():\n",
        "    # Solicitar al usuario el primer número\n",
        "    numero1 = float(input(\"Ingresa el primer número: \"))\n",
        "\n",
        "    # Solicitar al usuario el segundo número\n",
        "    numero2 = float(input(\"Ingresa el segundo número: \"))\n",
        "\n",
        "    # Calcular la suma de ambos números\n",
        "    suma = numero1 + numero2\n",
        "\n",
        "    # Mostrar el resultado de la suma\n",
        "    print(\"La suma de\", numero1, \"y\", numero2, \"es:\", suma)\n",
        "\n",
        "if __name__ == \"__main__\":\n",
        "    main()\n"
      ],
      "metadata": {
        "colab": {
          "base_uri": "https://localhost:8080/"
        },
        "id": "7eGrdhDJaN4l",
        "outputId": "b33e5014-9204-4a80-eddb-a228fb2cbc66"
      },
      "execution_count": 5,
      "outputs": [
        {
          "output_type": "stream",
          "name": "stdout",
          "text": [
            "Ingresa el primer número: 2\n",
            "Ingresa el segundo número: 4\n",
            "La suma de 2.0 y 4.0 es: 6.0\n"
          ]
        }
      ]
    },
    {
      "cell_type": "code",
      "source": [
        "def factorial(n):\n",
        "    if n == 0 or n == 1:\n",
        "        return 1\n",
        "    else:\n",
        "        return n * factorial(n - 1)\n",
        "\n",
        "def main():\n",
        "    try:\n",
        "        # Solicitar al usuario ingresar un número\n",
        "        numero = int(input(\"Ingresa un número entero para calcular su factorial: \"))\n",
        "\n",
        "        if numero < 0:\n",
        "            print(\"El factorial no está definido para números negativos.\")\n",
        "        else:\n",
        "            # Calcular el factorial utilizando la función factorial\n",
        "            resultado = factorial(numero)\n",
        "\n",
        "            # Mostrar el resultado\n",
        "            print(\"El factorial de\", numero, \"es:\", resultado)\n",
        "\n",
        "    except ValueError:\n",
        "        print(\"Error: Debes ingresar un número entero.\")\n",
        "\n",
        "if __name__ == \"__main__\":\n",
        "    main()\n"
      ],
      "metadata": {
        "colab": {
          "base_uri": "https://localhost:8080/"
        },
        "id": "A_tX4s_FaTQH",
        "outputId": "9847c658-ea83-4e75-fe02-51e80e315dc4"
      },
      "execution_count": 6,
      "outputs": [
        {
          "output_type": "stream",
          "name": "stdout",
          "text": [
            "Ingresa un número entero para calcular su factorial: 9\n",
            "El factorial de 9 es: 362880\n"
          ]
        }
      ]
    },
    {
      "cell_type": "code",
      "source": [
        "def buscar_indice(lista, objetivo):\n",
        "    for indice, numero in enumerate(lista):\n",
        "        if numero == objetivo:\n",
        "            return indice\n",
        "    return -1\n",
        "\n",
        "def main():\n",
        "    try:\n",
        "        # Solicitar al usuario ingresar la lista de números separados por espacios\n",
        "        lista_numeros = input(\"Ingresa una lista de números separados por espacios: \")\n",
        "\n",
        "        # Convertir la entrada del usuario en una lista de números\n",
        "        lista = [int(numero) for numero in lista_numeros.split()]\n",
        "\n",
        "        # Solicitar al usuario ingresar el número objetivo\n",
        "        objetivo = int(input(\"Ingresa el número objetivo a buscar: \"))\n",
        "\n",
        "        # Buscar el índice del número objetivo en la lista\n",
        "        indice = buscar_indice(lista, objetivo)\n",
        "\n",
        "        if indice != -1:\n",
        "            print(\"El número objetivo\", objetivo, \"se encuentra en el índice\", indice)\n",
        "        else:\n",
        "            print(\"El número objetivo\", objetivo, \"no se encuentra en la lista.\")\n",
        "\n",
        "    except ValueError:\n",
        "        print(\"Error: Debes ingresar números enteros separados por espacios.\")\n",
        "\n",
        "if __name__ == \"__main__\":\n",
        "    main()\n"
      ],
      "metadata": {
        "colab": {
          "base_uri": "https://localhost:8080/"
        },
        "id": "0yZpbU7Dai-C",
        "outputId": "e781ae33-387a-4dc9-92a0-90bff5dcea5d"
      },
      "execution_count": 7,
      "outputs": [
        {
          "output_type": "stream",
          "name": "stdout",
          "text": [
            "Ingresa una lista de números separados por espacios: 2 4 5\n",
            "Ingresa el número objetivo a buscar: 2\n",
            "El número objetivo 2 se encuentra en el índice 0\n"
          ]
        }
      ]
    }
  ]
}